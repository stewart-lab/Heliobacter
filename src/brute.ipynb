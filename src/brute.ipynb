{
 "cells": [
  {
   "cell_type": "markdown",
   "id": "539d3409-8c9c-41d8-badc-5c4d629dc2fa",
   "metadata": {},
   "source": [
    "## Problem statement:\n",
    "* Inputs: \n",
    "    * 10^9 (R1,R2) pairs: Short Nucleic Acid Sequence\n",
    "        * R1: Possibly edited site\n",
    "        * R2: Domain which was used to do the editing (probably slightly altered)\n",
    "    * 10^5 Domains\n",
    "    * Reference unedited R1 sequence.\n",
    "* Output: Sparse Data Frame in csv format\n",
    "    * Rows: domains\n",
    "    * Columns: Edited R1s (reduced to \"cigar string\" alignment)\n",
    "    * Data: count of how many times domain_i produced cigar_j\n",
    "    \n",
    "\n",
    "## Brute Force Plan:\n",
    "\n",
    "* Paramters:\n",
    "    * n reads from each file\n",
    "    * m domains to check\n",
    "    * (eventually) p jobs\n",
    "    * location of input data. \n",
    "    \n",
    "* Psuedocode:\n",
    "    * for R1, R2 in get_reads()\n",
    "        * domain_i = get_best_domain(R2)\n",
    "        * cigar_j = get_cigar(R1) \n",
    "        * df.loc[domain_i, cigar_j] += 1\n",
    "    * df_to_csv(output.csv)\n",
    "    * (eventually) split-apply-combine wrapper\n",
    "        "
   ]
  },
  {
   "cell_type": "code",
   "execution_count": 2,
   "id": "deca10f4-d393-42c0-aac7-4668647ad2db",
   "metadata": {},
   "outputs": [
    {
     "ename": "ModuleNotFoundError",
     "evalue": "No module named 'swalign'",
     "output_type": "error",
     "traceback": [
      "\u001b[0;31m---------------------------------------------------------------------------\u001b[0m",
      "\u001b[0;31mModuleNotFoundError\u001b[0m                       Traceback (most recent call last)",
      "\u001b[0;32m/tmp/ipykernel_3480496/1419658217.py\u001b[0m in \u001b[0;36m<module>\u001b[0;34m\u001b[0m\n\u001b[1;32m      2\u001b[0m \u001b[0;32mimport\u001b[0m \u001b[0mos\u001b[0m\u001b[0;34m\u001b[0m\u001b[0;34m\u001b[0m\u001b[0m\n\u001b[1;32m      3\u001b[0m \u001b[0;32mfrom\u001b[0m \u001b[0mpathlib\u001b[0m \u001b[0;32mimport\u001b[0m \u001b[0mPath\u001b[0m\u001b[0;34m\u001b[0m\u001b[0;34m\u001b[0m\u001b[0m\n\u001b[0;32m----> 4\u001b[0;31m \u001b[0;32mimport\u001b[0m \u001b[0mhess_pipeline_util\u001b[0m \u001b[0;32mas\u001b[0m \u001b[0mhpu\u001b[0m\u001b[0;34m\u001b[0m\u001b[0;34m\u001b[0m\u001b[0m\n\u001b[0m",
      "\u001b[0;32m~/Heliobacter/src/hess_pipeline_util.py\u001b[0m in \u001b[0;36m<module>\u001b[0;34m\u001b[0m\n\u001b[0;32m----> 1\u001b[0;31m \u001b[0;32mimport\u001b[0m \u001b[0mswalign\u001b[0m\u001b[0;34m\u001b[0m\u001b[0;34m\u001b[0m\u001b[0m\n\u001b[0m\u001b[1;32m      2\u001b[0m \u001b[0;32mfrom\u001b[0m \u001b[0mpathlib\u001b[0m \u001b[0;32mimport\u001b[0m \u001b[0mPath\u001b[0m\u001b[0;34m\u001b[0m\u001b[0;34m\u001b[0m\u001b[0m\n\u001b[1;32m      3\u001b[0m \u001b[0;32mfrom\u001b[0m \u001b[0mBio\u001b[0m \u001b[0;32mimport\u001b[0m \u001b[0mSeqIO\u001b[0m\u001b[0;34m\u001b[0m\u001b[0;34m\u001b[0m\u001b[0m\n\u001b[1;32m      4\u001b[0m \u001b[0;32mfrom\u001b[0m \u001b[0mBio\u001b[0m\u001b[0;34m.\u001b[0m\u001b[0mSeqIO\u001b[0m\u001b[0;34m.\u001b[0m\u001b[0mQualityIO\u001b[0m \u001b[0;32mimport\u001b[0m \u001b[0mFastqGeneralIterator\u001b[0m\u001b[0;34m\u001b[0m\u001b[0;34m\u001b[0m\u001b[0m\n\u001b[1;32m      5\u001b[0m \u001b[0;32mimport\u001b[0m \u001b[0mgzip\u001b[0m\u001b[0;34m\u001b[0m\u001b[0;34m\u001b[0m\u001b[0m\n",
      "\u001b[0;31mModuleNotFoundError\u001b[0m: No module named 'swalign'"
     ]
    }
   ],
   "source": [
    "import htcondor\n",
    "import os\n",
    "from pathlib import Path\n",
    "import hess_pipeline_util as hpu"
   ]
  },
  {
   "cell_type": "code",
   "execution_count": null,
   "id": "3484f110-49c7-4549-8eba-5d7a965f8fb9",
   "metadata": {},
   "outputs": [],
   "source": []
  }
 ],
 "metadata": {
  "kernelspec": {
   "display_name": "Python 3 (ipykernel)",
   "language": "python",
   "name": "python3"
  },
  "language_info": {
   "codemirror_mode": {
    "name": "ipython",
    "version": 3
   },
   "file_extension": ".py",
   "mimetype": "text/x-python",
   "name": "python",
   "nbconvert_exporter": "python",
   "pygments_lexer": "ipython3",
   "version": "3.7.3"
  }
 },
 "nbformat": 4,
 "nbformat_minor": 5
}
