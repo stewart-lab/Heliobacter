{
 "cells": [
  {
   "cell_type": "markdown",
   "id": "539d3409-8c9c-41d8-badc-5c4d629dc2fa",
   "metadata": {},
   "source": [
    "## Problem statement:\n",
    "* Inputs: \n",
    "    * 10^9 (R1,R2) pairs: Short Nucleic Acid Sequence\n",
    "        * R1: Possibly edited site\n",
    "        * R2: Domain which was used to do the editing (probably slightly altered)\n",
    "    * 10^5 Domains\n",
    "    * Reference unedited R1 sequence.\n",
    "* Output: Sparse Data Frame in csv format\n",
    "    * Rows: domains\n",
    "    * Columns: Edited R1s (reduced to \"cigar string\" alignment)\n",
    "    * Data: count of how many times domain_i produced cigar_j\n",
    "    \n",
    "\n",
    "## Brute Force Plan:\n",
    "\n",
    "* Paramters:\n",
    "    * n reads from each file\n",
    "    * m domains to check\n",
    "    * (eventually) p jobs\n",
    "    * location of input data. \n",
    "    \n",
    "* Psuedocode:\n",
    "    * for R1, R2 in get_reads()\n",
    "        * domain_i = get_best_domain(R2)\n",
    "        * cigar_j = get_cigar(R1) \n",
    "        * df.loc[domain_i, cigar_j] += 1\n",
    "    * df_to_csv(output.csv)\n",
    "    * (eventually) split-apply-combine wrapper\n",
    "        "
   ]
  },
  {
   "cell_type": "code",
   "execution_count": 1,
   "id": "deca10f4-d393-42c0-aac7-4668647ad2db",
   "metadata": {},
   "outputs": [],
   "source": [
    "import htcondor\n",
    "import os\n",
    "import pandas as pd\n",
    "import numpy as np\n",
    "from pathlib import Path\n",
    "import hess_pipeline_util as hpu"
   ]
  },
  {
   "cell_type": "code",
   "execution_count": 12,
   "id": "3484f110-49c7-4549-8eba-5d7a965f8fb9",
   "metadata": {},
   "outputs": [
    {
     "name": "stdout",
     "output_type": "stream",
     "text": [
      "      M0   M1   M2   M3   M4   M5   M6   M7   M8   M9\n",
      "0    1.0  0.0  0.0  0.0  0.0  0.0  0.0  0.0  0.0  0.0\n",
      "-10  0.0  1.0  0.0  0.0  0.0  0.0  0.0  0.0  0.0  0.0\n",
      "-20  0.0  0.0  1.0  0.0  0.0  0.0  0.0  0.0  0.0  0.0\n",
      "-30  0.0  0.0  0.0  1.0  0.0  0.0  0.0  0.0  0.0  0.0\n",
      "-40  0.0  0.0  0.0  0.0  1.0  0.0  0.0  0.0  0.0  0.0\n",
      "-50  0.0  0.0  0.0  0.0  0.0  1.0  0.0  0.0  0.0  0.0\n",
      "-60  0.0  0.0  0.0  0.0  0.0  0.0  1.0  0.0  0.0  0.0\n",
      "-70  0.0  0.0  0.0  0.0  0.0  0.0  0.0  1.0  0.0  0.0\n",
      "-80  0.0  0.0  0.0  0.0  0.0  0.0  0.0  0.0  1.0  0.0\n",
      "-90  0.0  0.0  0.0  0.0  0.0  0.0  0.0  0.0  0.0  1.0\n"
     ]
    }
   ],
   "source": [
    "# pd.SparseDtype(np.dtype('int'))\n",
    "# pd.DataFrame.sparse.from_spmatrix(pd.SparseDtype(np.dtype('int')))\n",
    "# help(pd.arrays.SparseArray)\n",
    "df_result = pd.DataFrame()\n",
    "for r1, r2 in hpu.get_pairs(n=10):\n",
    "    domain_i = hpu.get_best_domain(r2)\n",
    "    cigar_j = hpu.get_cigar(r1)\n",
    "    try: \n",
    "        df_result.loc[domain_i,cigar_j] += 1\n",
    "    except KeyError:\n",
    "        df_result.loc[domain_i,cigar_j] = 1\n",
    "print(df_result.fillna(0))"
   ]
  },
  {
   "cell_type": "code",
   "execution_count": null,
   "id": "c77932fc-cf0c-40b4-8d97-cadef1f2c33d",
   "metadata": {},
   "outputs": [],
   "source": []
  },
  {
   "cell_type": "code",
   "execution_count": 11,
   "id": "d01b4e38-be39-4ebb-acf7-34a59215bac3",
   "metadata": {},
   "outputs": [
    {
     "name": "stdout",
     "output_type": "stream",
     "text": [
      "['Nuc_ABA_BE_Rep1_R', 'Nuc_ABA_BE_Rep2_R', 'Nuc_ABA_KO_Rep1_R', 'Nuc_ABA_KO_Rep2_R', 'Nuc_BE_Rep1_R', 'Nuc_BE_Rep2_R', 'Nuc_KO_Rep1_R', 'Nuc_KO_Rep2_R']\n"
     ]
    }
   ],
   "source": [
    "a = list(hpu.FASTQ_HOME.glob(hpu.DEFAULT_GLOB_PATTERN))\n",
    "pair_headers = sorted(list({el.name.split('.')[0][:-1] for el in a}))\n",
    "print(pair_headers)\n",
    "for ph in pair_headers \n"
   ]
  },
  {
   "cell_type": "code",
   "execution_count": 1,
   "id": "2982bdcc-d61a-45bf-b32d-a2607b2bc3b6",
   "metadata": {},
   "outputs": [
    {
     "ename": "ModuleNotFoundError",
     "evalue": "No module named 'scipy'",
     "output_type": "error",
     "traceback": [
      "\u001b[0;31m---------------------------------------------------------------------------\u001b[0m",
      "\u001b[0;31mModuleNotFoundError\u001b[0m                       Traceback (most recent call last)",
      "\u001b[0;32m/tmp/ipykernel_3709411/3192395213.py\u001b[0m in \u001b[0;36m<module>\u001b[0;34m\u001b[0m\n\u001b[0;32m----> 1\u001b[0;31m \u001b[0;32mimport\u001b[0m \u001b[0mscipy\u001b[0m\u001b[0;34m.\u001b[0m\u001b[0msparse\u001b[0m\u001b[0;34m\u001b[0m\u001b[0;34m\u001b[0m\u001b[0m\n\u001b[0m\u001b[1;32m      2\u001b[0m \u001b[0mmat\u001b[0m \u001b[0;34m=\u001b[0m \u001b[0mscipy\u001b[0m\u001b[0;34m.\u001b[0m\u001b[0msparse\u001b[0m\u001b[0;34m.\u001b[0m\u001b[0meye\u001b[0m\u001b[0;34m(\u001b[0m\u001b[0;36m3\u001b[0m\u001b[0;34m)\u001b[0m\u001b[0;34m\u001b[0m\u001b[0;34m\u001b[0m\u001b[0m\n\u001b[1;32m      3\u001b[0m \u001b[0mpd\u001b[0m\u001b[0;34m.\u001b[0m\u001b[0mDataFrame\u001b[0m\u001b[0;34m.\u001b[0m\u001b[0msparse\u001b[0m\u001b[0;34m.\u001b[0m\u001b[0mfrom_spmatrix\u001b[0m\u001b[0;34m(\u001b[0m\u001b[0mmat\u001b[0m\u001b[0;34m)\u001b[0m\u001b[0;34m\u001b[0m\u001b[0;34m\u001b[0m\u001b[0m\n",
      "\u001b[0;31mModuleNotFoundError\u001b[0m: No module named 'scipy'"
     ]
    }
   ],
   "source": [
    "import scipy.sparse\n",
    "mat = scipy.sparse.eye(3)\n",
    "pd.DataFrame.sparse.from_spmatrix(mat)"
   ]
  },
  {
   "cell_type": "code",
   "execution_count": null,
   "id": "5ce3fd89-ac67-458a-b09e-7907f357b7d3",
   "metadata": {},
   "outputs": [],
   "source": []
  }
 ],
 "metadata": {
  "kernelspec": {
   "display_name": "Python 3 (ipykernel)",
   "language": "python",
   "name": "python3"
  },
  "language_info": {
   "codemirror_mode": {
    "name": "ipython",
    "version": 3
   },
   "file_extension": ".py",
   "mimetype": "text/x-python",
   "name": "python",
   "nbconvert_exporter": "python",
   "pygments_lexer": "ipython3",
   "version": "3.7.3"
  }
 },
 "nbformat": 4,
 "nbformat_minor": 5
}
