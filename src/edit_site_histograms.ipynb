{
 "cells": [
  {
   "cell_type": "code",
   "execution_count": 1,
   "id": "35b7e2a3-460d-435a-ba62-5c60e690966d",
   "metadata": {},
   "outputs": [],
   "source": [
    "import hess_pipeline_util as hpu\n",
    "import matplotlib\n",
    "import matplotlib.pyplot as plt\n",
    "matplotlib.rcParams['figure.figsize'] = [10, 7]"
   ]
  },
  {
   "cell_type": "code",
   "execution_count": 5,
   "id": "48e38870-e80c-49ce-9608-2858d488b067",
   "metadata": {},
   "outputs": [],
   "source": [
    "tag_len = 7\n",
    "tags = {}\n",
    "for rec in hpu.sequence_strider('*_R2.fastq.gz', seqs_per_file=2000):\n",
    "    try:\n",
    "        tags[rec[:tag_len]] += 1\n",
    "    except KeyError:\n",
    "        tags[rec[:tag_len]] = 1\n",
    "tag_items = sorted(tags.items(), key=lambda x: x[1],reverse=True)\n",
    "\n",
    "\n",
    "    "
   ]
  },
  {
   "cell_type": "code",
   "execution_count": 14,
   "id": "9ad9133d-449b-410d-9321-743c71fe4cdf",
   "metadata": {},
   "outputs": [
    {
     "name": "stdout",
     "output_type": "stream",
     "text": [
      "[('gtgaacg', 2098), ('gaggagg', 94), ('agcagca', 93), ('ctgctga', 87), ('gaggaga', 85), ('ctgctgg', 84), ('gccgcca', 77), ('ctggcca', 77), ('gccgccg', 70), ('acccccg', 68)]\n"
     ]
    },
    {
     "data": {
      "image/png": "[encoded data removed]",
      "text/plain": [
       "<Figure size 432x288 with 1 Axes>"
      ]
     },
     "metadata": {
      "needs_background": "light"
     },
     "output_type": "display_data"
    }
   ],
   "source": [
    "print(tag_items[:10])\n",
    "fig, ax = plt.subplots()\n",
    "b = ax.semilogy(range(len(tags)), [el[1] for el in tag_items])\n",
    "\n"
   ]
  },
  {
   "cell_type": "code",
   "execution_count": 18,
   "id": "ee139b2a-f4b9-48dd-9979-709d0d09a6a3",
   "metadata": {},
   "outputs": [
    {
     "data": {
      "image/png": "[encoded data removed]",
      "text/plain": [
       "<Figure size 432x288 with 1 Axes>"
      ]
     },
     "metadata": {
      "needs_background": "light"
     },
     "output_type": "display_data"
    }
   ],
   "source": [
    "fig, ax = plt.subplots()\n",
    "b = ax.semilogy(range(20), [el[1] for el in tag_items][:20])\n"
   ]
  },
  {
   "cell_type": "code",
   "execution_count": 23,
   "id": "b77394a9-14c4-499b-b4ae-d6422e941844",
   "metadata": {},
   "outputs": [
    {
     "name": "stdout",
     "output_type": "stream",
     "text": [
      "/w4home/jsteill/Hess/Data/Hess_Fastqs/Nuc_KO_Rep2_R1.fastq.gz\n",
      "/w4home/jsteill/Hess/Data/Hess_Fastqs/Nuc_KO_Rep1_R1.fastq.gz\n",
      "/w4home/jsteill/Hess/Data/Hess_Fastqs/DDR_ABA_KO_Rep2_R1.fastq.gz\n",
      "/w4home/jsteill/Hess/Data/Hess_Fastqs/Nuc_ABA_KO_Rep2_R1.fastq.gz\n",
      "/w4home/jsteill/Hess/Data/Hess_Fastqs/DDR_KO_Rep2_R1.fastq.gz\n",
      "/w4home/jsteill/Hess/Data/Hess_Fastqs/DDR_ABA_KO_Rep1_R1.fastq.gz\n",
      "/w4home/jsteill/Hess/Data/Hess_Fastqs/Nuc_ABA_KO_Rep1_R1.fastq.gz\n",
      "/w4home/jsteill/Hess/Data/Hess_Fastqs/DDR_KO_Rep1_R1.fastq.gz\n"
     ]
    }
   ],
   "source": [
    "CNT_MAX = 500\n",
    "SKIP = 100\n",
    "indel_hist = [0 for i in range(len(hpu.REF))]\n",
    "total_cnt = 0\n",
    "for ko_file in hpu.FASTQ_HOME.glob('*_KO_*1.fastq.gz'):\n",
    "    cnt = 0\n",
    "    with gzip.open(ko_file,'rt') as f:\n",
    "        print(ko_file)\n",
    "        for rec in FastqGeneralIterator(f):\n",
    "            cnt += 1\n",
    "            if not cnt%SKIP:\n",
    "                indel_pos = hpu.get_first_indel_pos(hpu.REF, rec[1].lower())\n",
    "                if indel_pos:\n",
    "                    indel_hist[indel_pos] += 1\n",
    "                if cnt >= CNT_MAX*SKIP: \n",
    "                    total_cnt += cnt/SKIP\n",
    "                    break\n",
    "\n",
    "indel_hist_n = [100*el/total_cnt for el in indel_hist] \n",
    "indel_cnt = sum(indel_hist)\n",
    "    \n",
    "        "
   ]
  },
  {
   "cell_type": "code",
   "execution_count": 25,
   "id": "d20314fe-3156-444f-9ec1-2d0658c3007d",
   "metadata": {},
   "outputs": [
    {
     "data": {
      "image/png": "[encoded data removed]",
      "text/plain": [
       "<Figure size 720x504 with 1 Axes>"
      ]
     },
     "metadata": {
      "needs_background": "light"
     },
     "output_type": "display_data"
    }
   ],
   "source": [
    "\n",
    "\n",
    "\n",
    "\n",
    "                                                  \n",
    "plt.bar(range(len(hpu.REF)),indel_hist_n)\n",
    "plt.grid(axis='y', alpha=0.75)\n",
    "plt.xlabel('First Indel Position')\n",
    "plt.ylabel('% of Total Sequences')\n",
    "plt.title(f'KO 1st indels, {indel_cnt}/{int(total_cnt)} = {indel_cnt/total_cnt} edit efficiency')\n",
    "plt.savefig('KO_indel_histogram_survey.png')\n",
    "\n",
    "\n",
    "\n",
    "#print(sum(indel_hist), total_cnt)\n",
    "#print(indel_hist)\n",
    "#plt.title('My Very Own Histogram')\n",
    "#plt.text(23, 45, r'$\\mu=15, b=3$')\n",
    "#maxfreq = n.max()\n",
    "# Set a clean upper y-axis limit.\n",
    "#plt.ylim(ymax=np.ceil(maxfreq / 10) * 10 if maxfreq % 10 else maxfreq + 10)"
   ]
  },
  {
   "cell_type": "code",
   "execution_count": 20,
   "id": "e6a7f705-1f44-4f84-a434-63468a13be28",
   "metadata": {},
   "outputs": [
    {
     "ename": "NameError",
     "evalue": "name 'alignment' is not defined",
     "output_type": "error",
     "traceback": [
      "\u001b[0;31m---------------------------------------------------------------------------\u001b[0m",
      "\u001b[0;31mNameError\u001b[0m                                 Traceback (most recent call last)",
      "\u001b[0;32m/tmp/ipykernel_97506/480230290.py\u001b[0m in \u001b[0;36m<module>\u001b[0;34m\u001b[0m\n\u001b[0;32m----> 1\u001b[0;31m \u001b[0mprint\u001b[0m\u001b[0;34m(\u001b[0m\u001b[0;34mf'The alignment starts from reference position {alignment.r_pos}'\u001b[0m\u001b[0;34m)\u001b[0m\u001b[0;34m\u001b[0m\u001b[0;34m\u001b[0m\u001b[0m\n\u001b[0m\u001b[1;32m      2\u001b[0m \u001b[0malignment\u001b[0m\u001b[0;34m.\u001b[0m\u001b[0mcigar\u001b[0m\u001b[0;34m\u001b[0m\u001b[0;34m\u001b[0m\u001b[0m\n",
      "\u001b[0;31mNameError\u001b[0m: name 'alignment' is not defined"
     ]
    }
   ],
   "source": [
    "print(f'The alignment starts from reference position {alignment.r_pos}')\n",
    "alignment.cigar"
   ]
  },
  {
   "cell_type": "code",
   "execution_count": 27,
   "id": "c3c361b4-67de-416f-974d-f3b17c51751a",
   "metadata": {},
   "outputs": [
    {
     "name": "stdout",
     "output_type": "stream",
     "text": [
      "The first indel is a D and is at reference position 62\n"
     ]
    }
   ],
   "source": [
    "r_pos = alignment.r_pos\n",
    "for cig in alignment.cigar:\n",
    "    #print(cig, cig[1], cig[1] in )\n",
    "    if cig[1] not in \"ID\":\n",
    "        r_pos += cig[0]\n",
    "    else:\n",
    "        indel = cig[1]\n",
    "        print(f'The first indel is a {indel} and is at reference position {r_pos}')\n",
    "        break"
   ]
  }
 ],
 "metadata": {
  "kernelspec": {
   "display_name": "Python 3 (ipykernel)",
   "language": "python",
   "name": "python3"
  },
  "language_info": {
   "codemirror_mode": {
    "name": "ipython",
    "version": 3
   },
   "file_extension": ".py",
   "mimetype": "text/x-python",
   "name": "python",
   "nbconvert_exporter": "python",
   "pygments_lexer": "ipython3",
   "version": "3.7.4"
  }
 },
 "nbformat": 4,
 "nbformat_minor": 5
}
